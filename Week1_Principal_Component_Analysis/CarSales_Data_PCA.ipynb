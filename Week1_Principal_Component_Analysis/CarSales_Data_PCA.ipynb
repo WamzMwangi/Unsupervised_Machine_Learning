{
 "cells": [
  {
   "cell_type": "markdown",
   "metadata": {},
   "source": [
    "### 1. Project Background\n",
    "\n",
    "This project aims to explore and apply feature Engineering and dimensionality reduction techniques on second-hand car sales datasets. The goal is to prepare the dataset for machine learning models by creating informative features and reducing the feature space while retaining essential information.\n",
    "The second-hand car market is vast, and predicting the price of a used car is a challenging task due to various factors influencing the price. Feature engineering and dimensionality reduction play a crucial role in improving the performance of predictive models by enhancing the quality of input data and reducing noise."
   ]
  },
  {
   "cell_type": "markdown",
   "metadata": {},
   "source": [
    "### 2. Load Data & Libraries"
   ]
  },
  {
   "cell_type": "code",
   "execution_count": 1,
   "metadata": {},
   "outputs": [],
   "source": [
    "# Impoting general libraries\n",
    "import warnings\n",
    "import itertools\n",
    "import random\n",
    "\n",
    "# Data Analysis Libraries\n",
    "import pandas as pd\n",
    "import numpy as np\n",
    "import matplotlib.pyplot as plt\n",
    "import seaborn as sns\n",
    "import missingno as mn\n",
    "\n",
    "# Data Preparation, Modeling, and Evaluation (SKLearn Modules)\n",
    "from sklearn.preprocessing import OneHotEncoder\n",
    "from sklearn.preprocessing import LabelBinarizer\n",
    "from sklearn.preprocessing import MinMaxScaler,RobustScaler, StandardScaler\n",
    "from sklearn.model_selection import train_test_split\n",
    "\n",
    "from sklearn.impute import SimpleImputer\n",
    "from collections import Counter\n",
    "from sklearn.model_selection import train_test_split, cross_val_score, GridSearchCV, RandomizedSearchCV\n",
    "from sklearn.model_selection import cross_val_score\n",
    "from sklearn.metrics import make_scorer, mean_squared_error\n",
    "from sklearn.preprocessing import StandardScaler, PolynomialFeatures\n",
    "\n",
    "# Machine Learning Models \n",
    "from sklearn.linear_model import LinearRegression\n",
    "from sklearn.linear_model import Lasso\n",
    "from sklearn.svm import SVR\n",
    "from sklearn.ensemble import RandomForestRegressor\n",
    "\n",
    "# Machine Learning Model Evaluation Methods \n",
    "from sklearn.metrics import mean_squared_error\n",
    "\n",
    "warnings.filterwarnings(action=\"ignore\")\n",
    "%matplotlib inline"
   ]
  },
  {
   "cell_type": "code",
   "execution_count": 2,
   "metadata": {},
   "outputs": [
    {
     "data": {
      "text/html": [
       "<div>\n",
       "<style scoped>\n",
       "    .dataframe tbody tr th:only-of-type {\n",
       "        vertical-align: middle;\n",
       "    }\n",
       "\n",
       "    .dataframe tbody tr th {\n",
       "        vertical-align: top;\n",
       "    }\n",
       "\n",
       "    .dataframe thead th {\n",
       "        text-align: right;\n",
       "    }\n",
       "</style>\n",
       "<table border=\"1\" class=\"dataframe\">\n",
       "  <thead>\n",
       "    <tr style=\"text-align: right;\">\n",
       "      <th></th>\n",
       "      <th>Company Name</th>\n",
       "      <th>Car Name</th>\n",
       "      <th>Variant</th>\n",
       "      <th>Fuel Type</th>\n",
       "      <th>Tyre Condition</th>\n",
       "      <th>Make Year</th>\n",
       "      <th>Owner Type</th>\n",
       "      <th>Registration Number</th>\n",
       "      <th>Mileage</th>\n",
       "      <th>Price</th>\n",
       "      <th>Transmission Type</th>\n",
       "      <th>Body Color</th>\n",
       "      <th>Service Record</th>\n",
       "      <th>Insurance</th>\n",
       "      <th>Registration Certificate</th>\n",
       "      <th>Accessories</th>\n",
       "    </tr>\n",
       "  </thead>\n",
       "  <tbody>\n",
       "    <tr>\n",
       "      <th>0</th>\n",
       "      <td>Maruti Suzuki</td>\n",
       "      <td>Cruze</td>\n",
       "      <td>EX</td>\n",
       "      <td>CNG</td>\n",
       "      <td>Needs Replacement</td>\n",
       "      <td>2018</td>\n",
       "      <td>Second</td>\n",
       "      <td>84-436-5584</td>\n",
       "      <td>52798</td>\n",
       "      <td>759107</td>\n",
       "      <td>Manual</td>\n",
       "      <td>Grey</td>\n",
       "      <td>Major Service at 50418 km</td>\n",
       "      <td>No Current Insurance</td>\n",
       "      <td>Not Available</td>\n",
       "      <td>Music System, Sunroof, Alloy Wheels</td>\n",
       "    </tr>\n",
       "    <tr>\n",
       "      <th>1</th>\n",
       "      <td>Kia</td>\n",
       "      <td>Seltos</td>\n",
       "      <td>RXE</td>\n",
       "      <td>Petrol</td>\n",
       "      <td>New</td>\n",
       "      <td>2020</td>\n",
       "      <td>Third</td>\n",
       "      <td>79-114-3166</td>\n",
       "      <td>43412</td>\n",
       "      <td>505071</td>\n",
       "      <td>Automatic</td>\n",
       "      <td>Maroon</td>\n",
       "      <td>Major Service at 131313 km</td>\n",
       "      <td>No Current Insurance</td>\n",
       "      <td>Available</td>\n",
       "      <td>NaN</td>\n",
       "    </tr>\n",
       "    <tr>\n",
       "      <th>2</th>\n",
       "      <td>Kia</td>\n",
       "      <td>Accord</td>\n",
       "      <td>RXE</td>\n",
       "      <td>Petrol</td>\n",
       "      <td>New</td>\n",
       "      <td>2022</td>\n",
       "      <td>Second</td>\n",
       "      <td>41-358-3344</td>\n",
       "      <td>95219</td>\n",
       "      <td>635322</td>\n",
       "      <td>Automatic (Tiptronic)</td>\n",
       "      <td>Black</td>\n",
       "      <td>No Service Record</td>\n",
       "      <td>No Current Insurance</td>\n",
       "      <td>Available</td>\n",
       "      <td>NaN</td>\n",
       "    </tr>\n",
       "    <tr>\n",
       "      <th>3</th>\n",
       "      <td>Nissan</td>\n",
       "      <td>Seltos</td>\n",
       "      <td>Highline</td>\n",
       "      <td>Diesel</td>\n",
       "      <td>Used</td>\n",
       "      <td>2024</td>\n",
       "      <td>Third</td>\n",
       "      <td>92-708-1763</td>\n",
       "      <td>70370</td>\n",
       "      <td>483152</td>\n",
       "      <td>Automatic (Tiptronic)</td>\n",
       "      <td>Maroon</td>\n",
       "      <td>Major Service at 98115 km</td>\n",
       "      <td>Valid Until [date]</td>\n",
       "      <td>Available</td>\n",
       "      <td>Music System, Alloy Wheels</td>\n",
       "    </tr>\n",
       "    <tr>\n",
       "      <th>4</th>\n",
       "      <td>Chevrolet</td>\n",
       "      <td>Kwid</td>\n",
       "      <td>Highline</td>\n",
       "      <td>Petrol</td>\n",
       "      <td>Used</td>\n",
       "      <td>2018</td>\n",
       "      <td>Second</td>\n",
       "      <td>76-154-5485</td>\n",
       "      <td>85852</td>\n",
       "      <td>712961</td>\n",
       "      <td>Automatic (Tiptronic)</td>\n",
       "      <td>Silver</td>\n",
       "      <td>Major Service at 135665 km</td>\n",
       "      <td>No Current Insurance</td>\n",
       "      <td>Not Available</td>\n",
       "      <td>GPS, Music System</td>\n",
       "    </tr>\n",
       "  </tbody>\n",
       "</table>\n",
       "</div>"
      ],
      "text/plain": [
       "    Company Name Car Name   Variant Fuel Type     Tyre Condition  Make Year  \\\n",
       "0  Maruti Suzuki    Cruze        EX       CNG  Needs Replacement       2018   \n",
       "1            Kia   Seltos       RXE    Petrol                New       2020   \n",
       "2            Kia   Accord       RXE    Petrol                New       2022   \n",
       "3         Nissan   Seltos  Highline    Diesel               Used       2024   \n",
       "4      Chevrolet     Kwid  Highline    Petrol               Used       2018   \n",
       "\n",
       "  Owner Type Registration Number  Mileage   Price      Transmission Type  \\\n",
       "0     Second         84-436-5584    52798  759107                 Manual   \n",
       "1      Third         79-114-3166    43412  505071              Automatic   \n",
       "2     Second         41-358-3344    95219  635322  Automatic (Tiptronic)   \n",
       "3      Third         92-708-1763    70370  483152  Automatic (Tiptronic)   \n",
       "4     Second         76-154-5485    85852  712961  Automatic (Tiptronic)   \n",
       "\n",
       "  Body Color              Service Record             Insurance  \\\n",
       "0       Grey   Major Service at 50418 km  No Current Insurance   \n",
       "1     Maroon  Major Service at 131313 km  No Current Insurance   \n",
       "2      Black           No Service Record  No Current Insurance   \n",
       "3     Maroon   Major Service at 98115 km    Valid Until [date]   \n",
       "4     Silver  Major Service at 135665 km  No Current Insurance   \n",
       "\n",
       "  Registration Certificate                          Accessories  \n",
       "0            Not Available  Music System, Sunroof, Alloy Wheels  \n",
       "1                Available                                  NaN  \n",
       "2                Available                                  NaN  \n",
       "3                Available           Music System, Alloy Wheels  \n",
       "4            Not Available                    GPS, Music System  "
      ]
     },
     "execution_count": 2,
     "metadata": {},
     "output_type": "execute_result"
    }
   ],
   "source": [
    "#load data\n",
    "data=pd.read_csv(r'C:\\Users\\Admin\\Desktop\\Zindua_School\\Unsupervised_Machine_Learning\\Week1_Principal_Component_Analysis\\datasets\\second_hand_cars.csv')\n",
    "data.head()"
   ]
  },
  {
   "cell_type": "markdown",
   "metadata": {},
   "source": [
    "### 3. Data Preprocessing\n",
    "#### 3.1 Data Cleaning: Handling missing data\n"
   ]
  },
  {
   "cell_type": "code",
   "execution_count": 3,
   "metadata": {},
   "outputs": [
    {
     "name": "stdout",
     "output_type": "stream",
     "text": [
      "<class 'pandas.core.frame.DataFrame'>\n",
      "RangeIndex: 2500 entries, 0 to 2499\n",
      "Data columns (total 16 columns):\n",
      " #   Column                    Non-Null Count  Dtype \n",
      "---  ------                    --------------  ----- \n",
      " 0   Company Name              2500 non-null   object\n",
      " 1   Car Name                  2500 non-null   object\n",
      " 2   Variant                   2238 non-null   object\n",
      " 3   Fuel Type                 2500 non-null   object\n",
      " 4   Tyre Condition            2500 non-null   object\n",
      " 5   Make Year                 2500 non-null   int64 \n",
      " 6   Owner Type                2500 non-null   object\n",
      " 7   Registration Number       2500 non-null   object\n",
      " 8   Mileage                   2500 non-null   int64 \n",
      " 9   Price                     2500 non-null   int64 \n",
      " 10  Transmission Type         2500 non-null   object\n",
      " 11  Body Color                2500 non-null   object\n",
      " 12  Service Record            2500 non-null   object\n",
      " 13  Insurance                 2500 non-null   object\n",
      " 14  Registration Certificate  2500 non-null   object\n",
      " 15  Accessories               2018 non-null   object\n",
      "dtypes: int64(3), object(13)\n",
      "memory usage: 312.6+ KB\n"
     ]
    }
   ],
   "source": [
    "#check for missingness\n",
    "data.info()"
   ]
  },
  {
   "cell_type": "markdown",
   "metadata": {},
   "source": [
    "Looks like only 2 features have missingness: Variant and  Accessories\n",
    "Let us explore the missingness even more..."
   ]
  },
  {
   "cell_type": "code",
   "execution_count": 4,
   "metadata": {},
   "outputs": [
    {
     "data": {
      "text/html": [
       "<div>\n",
       "<style scoped>\n",
       "    .dataframe tbody tr th:only-of-type {\n",
       "        vertical-align: middle;\n",
       "    }\n",
       "\n",
       "    .dataframe tbody tr th {\n",
       "        vertical-align: top;\n",
       "    }\n",
       "\n",
       "    .dataframe thead th {\n",
       "        text-align: right;\n",
       "    }\n",
       "</style>\n",
       "<table border=\"1\" class=\"dataframe\">\n",
       "  <thead>\n",
       "    <tr style=\"text-align: right;\">\n",
       "      <th></th>\n",
       "      <th>total missing</th>\n",
       "      <th>percent missing</th>\n",
       "    </tr>\n",
       "    <tr>\n",
       "      <th>variable</th>\n",
       "      <th></th>\n",
       "      <th></th>\n",
       "    </tr>\n",
       "  </thead>\n",
       "  <tbody>\n",
       "    <tr>\n",
       "      <th>Accessories</th>\n",
       "      <td>482</td>\n",
       "      <td>19.28</td>\n",
       "    </tr>\n",
       "    <tr>\n",
       "      <th>Variant</th>\n",
       "      <td>262</td>\n",
       "      <td>10.48</td>\n",
       "    </tr>\n",
       "  </tbody>\n",
       "</table>\n",
       "</div>"
      ],
      "text/plain": [
       "             total missing  percent missing\n",
       "variable                                   \n",
       "Accessories            482            19.28\n",
       "Variant                262            10.48"
      ]
     },
     "execution_count": 4,
     "metadata": {},
     "output_type": "execute_result"
    }
   ],
   "source": [
    "#how much missingness does each have\n",
    "total_missing=data.isnull().sum().sort_values(ascending=False)\n",
    "portion_missing=total_missing/data.isnull().count().sort_values(ascending=False)\n",
    "missing_df=pd.concat([total_missing,portion_missing],axis=1,keys=['total missing','percent missing'],sort=False)\n",
    "missing_df.index.name='variable'# set the index name to variable \n",
    "missing_df=missing_df[total_missing>0] # only retain those with missing values \n",
    "missing_df['percent missing']=missing_df['percent missing'].map(lambda x:x*100) # convert to percentage \n",
    "missing_df"
   ]
  },
  {
   "cell_type": "markdown",
   "metadata": {},
   "source": [
    "Only a small percent of data in each feature is missing, now we can proceed to impute the data, first explore the data type- if it is categorical data impute with the mode, if it is numerical data, plot the distribution and impute either by mean or median"
   ]
  },
  {
   "cell_type": "code",
   "execution_count": 5,
   "metadata": {},
   "outputs": [],
   "source": [
    "#data.Variant"
   ]
  },
  {
   "cell_type": "code",
   "execution_count": 6,
   "metadata": {},
   "outputs": [],
   "source": [
    "#data.Accessories"
   ]
  },
  {
   "cell_type": "code",
   "execution_count": 7,
   "metadata": {},
   "outputs": [
    {
     "name": "stdout",
     "output_type": "stream",
     "text": [
      "<class 'pandas.core.frame.DataFrame'>\n",
      "RangeIndex: 2500 entries, 0 to 2499\n",
      "Data columns (total 16 columns):\n",
      " #   Column                    Non-Null Count  Dtype \n",
      "---  ------                    --------------  ----- \n",
      " 0   Company Name              2500 non-null   object\n",
      " 1   Car Name                  2500 non-null   object\n",
      " 2   Variant                   2500 non-null   object\n",
      " 3   Fuel Type                 2500 non-null   object\n",
      " 4   Tyre Condition            2500 non-null   object\n",
      " 5   Make Year                 2500 non-null   int64 \n",
      " 6   Owner Type                2500 non-null   object\n",
      " 7   Registration Number       2500 non-null   object\n",
      " 8   Mileage                   2500 non-null   int64 \n",
      " 9   Price                     2500 non-null   int64 \n",
      " 10  Transmission Type         2500 non-null   object\n",
      " 11  Body Color                2500 non-null   object\n",
      " 12  Service Record            2500 non-null   object\n",
      " 13  Insurance                 2500 non-null   object\n",
      " 14  Registration Certificate  2500 non-null   object\n",
      " 15  Accessories               2500 non-null   object\n",
      "dtypes: int64(3), object(13)\n",
      "memory usage: 312.6+ KB\n"
     ]
    }
   ],
   "source": [
    "data['Accessories'].fillna(data['Accessories'].mode()[0], inplace=True)\n",
    "data['Variant'].fillna(data['Variant'].mode()[0], inplace=True)\n",
    "data.info()\n"
   ]
  },
  {
   "cell_type": "markdown",
   "metadata": {},
   "source": [
    "Now we look for duplicates in the data"
   ]
  },
  {
   "cell_type": "code",
   "execution_count": 8,
   "metadata": {},
   "outputs": [
    {
     "data": {
      "text/html": [
       "<div>\n",
       "<style scoped>\n",
       "    .dataframe tbody tr th:only-of-type {\n",
       "        vertical-align: middle;\n",
       "    }\n",
       "\n",
       "    .dataframe tbody tr th {\n",
       "        vertical-align: top;\n",
       "    }\n",
       "\n",
       "    .dataframe thead th {\n",
       "        text-align: right;\n",
       "    }\n",
       "</style>\n",
       "<table border=\"1\" class=\"dataframe\">\n",
       "  <thead>\n",
       "    <tr style=\"text-align: right;\">\n",
       "      <th></th>\n",
       "      <th>Company Name</th>\n",
       "      <th>Car Name</th>\n",
       "      <th>Variant</th>\n",
       "      <th>Fuel Type</th>\n",
       "      <th>Tyre Condition</th>\n",
       "      <th>Make Year</th>\n",
       "      <th>Owner Type</th>\n",
       "      <th>Registration Number</th>\n",
       "      <th>Mileage</th>\n",
       "      <th>Price</th>\n",
       "      <th>Transmission Type</th>\n",
       "      <th>Body Color</th>\n",
       "      <th>Service Record</th>\n",
       "      <th>Insurance</th>\n",
       "      <th>Registration Certificate</th>\n",
       "      <th>Accessories</th>\n",
       "    </tr>\n",
       "  </thead>\n",
       "  <tbody>\n",
       "  </tbody>\n",
       "</table>\n",
       "</div>"
      ],
      "text/plain": [
       "Empty DataFrame\n",
       "Columns: [Company Name, Car Name, Variant, Fuel Type, Tyre Condition, Make Year, Owner Type, Registration Number, Mileage, Price, Transmission Type, Body Color, Service Record, Insurance, Registration Certificate, Accessories]\n",
       "Index: []"
      ]
     },
     "execution_count": 8,
     "metadata": {},
     "output_type": "execute_result"
    }
   ],
   "source": [
    "duplicated=data[data.duplicated()]\n",
    "duplicated"
   ]
  },
  {
   "cell_type": "markdown",
   "metadata": {},
   "source": [
    "There are no deplicated rows in the data frame."
   ]
  },
  {
   "cell_type": "markdown",
   "metadata": {},
   "source": [
    "### 4. Feature Engineering"
   ]
  },
  {
   "cell_type": "markdown",
   "metadata": {},
   "source": [
    "#### 4.1 Creating new features"
   ]
  },
  {
   "cell_type": "code",
   "execution_count": 9,
   "metadata": {},
   "outputs": [],
   "source": [
    "#Calculating the age of the car from the year of manufacturer\n",
    "#first convert the column to date time data type\n",
    "from datetime import datetime\n",
    "data['Make Year']=pd.to_datetime(data['Make Year'])\n",
    "#set the year\n",
    "current_year=2024\n",
    "\n",
    "def car_age(yom):\n",
    "    current_year=datetime.today().year\n",
    "    age= current_year-yom.year\n",
    "    return age"
   ]
  },
  {
   "cell_type": "code",
   "execution_count": 10,
   "metadata": {},
   "outputs": [],
   "source": [
    "data['Car Age']=data['Make Year'].apply(car_age)\n",
    "##data.head()\n"
   ]
  },
  {
   "cell_type": "code",
   "execution_count": 11,
   "metadata": {},
   "outputs": [
    {
     "data": {
      "text/html": [
       "<div>\n",
       "<style scoped>\n",
       "    .dataframe tbody tr th:only-of-type {\n",
       "        vertical-align: middle;\n",
       "    }\n",
       "\n",
       "    .dataframe tbody tr th {\n",
       "        vertical-align: top;\n",
       "    }\n",
       "\n",
       "    .dataframe thead th {\n",
       "        text-align: right;\n",
       "    }\n",
       "</style>\n",
       "<table border=\"1\" class=\"dataframe\">\n",
       "  <thead>\n",
       "    <tr style=\"text-align: right;\">\n",
       "      <th></th>\n",
       "      <th>Company Name</th>\n",
       "      <th>Car Name</th>\n",
       "      <th>Variant</th>\n",
       "      <th>Fuel Type</th>\n",
       "      <th>Tyre Condition</th>\n",
       "      <th>Make Year</th>\n",
       "      <th>Owner Type</th>\n",
       "      <th>Registration Number</th>\n",
       "      <th>Mileage</th>\n",
       "      <th>Price</th>\n",
       "      <th>Transmission Type</th>\n",
       "      <th>Body Color</th>\n",
       "      <th>Service Record</th>\n",
       "      <th>Insurance</th>\n",
       "      <th>Registration Certificate</th>\n",
       "      <th>Accessories</th>\n",
       "      <th>Car Age</th>\n",
       "      <th>Price per mile</th>\n",
       "    </tr>\n",
       "  </thead>\n",
       "  <tbody>\n",
       "    <tr>\n",
       "      <th>0</th>\n",
       "      <td>Maruti Suzuki</td>\n",
       "      <td>Cruze</td>\n",
       "      <td>EX</td>\n",
       "      <td>CNG</td>\n",
       "      <td>Needs Replacement</td>\n",
       "      <td>1970-01-01 00:00:00.000002018</td>\n",
       "      <td>Second</td>\n",
       "      <td>84-436-5584</td>\n",
       "      <td>52798</td>\n",
       "      <td>759107</td>\n",
       "      <td>Manual</td>\n",
       "      <td>Grey</td>\n",
       "      <td>Major Service at 50418 km</td>\n",
       "      <td>No Current Insurance</td>\n",
       "      <td>Not Available</td>\n",
       "      <td>Music System, Sunroof, Alloy Wheels</td>\n",
       "      <td>54</td>\n",
       "      <td>14.0</td>\n",
       "    </tr>\n",
       "    <tr>\n",
       "      <th>1</th>\n",
       "      <td>Kia</td>\n",
       "      <td>Seltos</td>\n",
       "      <td>RXE</td>\n",
       "      <td>Petrol</td>\n",
       "      <td>New</td>\n",
       "      <td>1970-01-01 00:00:00.000002020</td>\n",
       "      <td>Third</td>\n",
       "      <td>79-114-3166</td>\n",
       "      <td>43412</td>\n",
       "      <td>505071</td>\n",
       "      <td>Automatic</td>\n",
       "      <td>Maroon</td>\n",
       "      <td>Major Service at 131313 km</td>\n",
       "      <td>No Current Insurance</td>\n",
       "      <td>Available</td>\n",
       "      <td>Sunroof</td>\n",
       "      <td>54</td>\n",
       "      <td>12.0</td>\n",
       "    </tr>\n",
       "    <tr>\n",
       "      <th>2</th>\n",
       "      <td>Kia</td>\n",
       "      <td>Accord</td>\n",
       "      <td>RXE</td>\n",
       "      <td>Petrol</td>\n",
       "      <td>New</td>\n",
       "      <td>1970-01-01 00:00:00.000002022</td>\n",
       "      <td>Second</td>\n",
       "      <td>41-358-3344</td>\n",
       "      <td>95219</td>\n",
       "      <td>635322</td>\n",
       "      <td>Automatic (Tiptronic)</td>\n",
       "      <td>Black</td>\n",
       "      <td>No Service Record</td>\n",
       "      <td>No Current Insurance</td>\n",
       "      <td>Available</td>\n",
       "      <td>Sunroof</td>\n",
       "      <td>54</td>\n",
       "      <td>7.0</td>\n",
       "    </tr>\n",
       "    <tr>\n",
       "      <th>3</th>\n",
       "      <td>Nissan</td>\n",
       "      <td>Seltos</td>\n",
       "      <td>Highline</td>\n",
       "      <td>Diesel</td>\n",
       "      <td>Used</td>\n",
       "      <td>1970-01-01 00:00:00.000002024</td>\n",
       "      <td>Third</td>\n",
       "      <td>92-708-1763</td>\n",
       "      <td>70370</td>\n",
       "      <td>483152</td>\n",
       "      <td>Automatic (Tiptronic)</td>\n",
       "      <td>Maroon</td>\n",
       "      <td>Major Service at 98115 km</td>\n",
       "      <td>Valid Until [date]</td>\n",
       "      <td>Available</td>\n",
       "      <td>Music System, Alloy Wheels</td>\n",
       "      <td>54</td>\n",
       "      <td>7.0</td>\n",
       "    </tr>\n",
       "    <tr>\n",
       "      <th>4</th>\n",
       "      <td>Chevrolet</td>\n",
       "      <td>Kwid</td>\n",
       "      <td>Highline</td>\n",
       "      <td>Petrol</td>\n",
       "      <td>Used</td>\n",
       "      <td>1970-01-01 00:00:00.000002018</td>\n",
       "      <td>Second</td>\n",
       "      <td>76-154-5485</td>\n",
       "      <td>85852</td>\n",
       "      <td>712961</td>\n",
       "      <td>Automatic (Tiptronic)</td>\n",
       "      <td>Silver</td>\n",
       "      <td>Major Service at 135665 km</td>\n",
       "      <td>No Current Insurance</td>\n",
       "      <td>Not Available</td>\n",
       "      <td>GPS, Music System</td>\n",
       "      <td>54</td>\n",
       "      <td>8.0</td>\n",
       "    </tr>\n",
       "  </tbody>\n",
       "</table>\n",
       "</div>"
      ],
      "text/plain": [
       "    Company Name Car Name   Variant Fuel Type     Tyre Condition  \\\n",
       "0  Maruti Suzuki    Cruze        EX       CNG  Needs Replacement   \n",
       "1            Kia   Seltos       RXE    Petrol                New   \n",
       "2            Kia   Accord       RXE    Petrol                New   \n",
       "3         Nissan   Seltos  Highline    Diesel               Used   \n",
       "4      Chevrolet     Kwid  Highline    Petrol               Used   \n",
       "\n",
       "                      Make Year Owner Type Registration Number  Mileage  \\\n",
       "0 1970-01-01 00:00:00.000002018     Second         84-436-5584    52798   \n",
       "1 1970-01-01 00:00:00.000002020      Third         79-114-3166    43412   \n",
       "2 1970-01-01 00:00:00.000002022     Second         41-358-3344    95219   \n",
       "3 1970-01-01 00:00:00.000002024      Third         92-708-1763    70370   \n",
       "4 1970-01-01 00:00:00.000002018     Second         76-154-5485    85852   \n",
       "\n",
       "    Price      Transmission Type Body Color              Service Record  \\\n",
       "0  759107                 Manual       Grey   Major Service at 50418 km   \n",
       "1  505071              Automatic     Maroon  Major Service at 131313 km   \n",
       "2  635322  Automatic (Tiptronic)      Black           No Service Record   \n",
       "3  483152  Automatic (Tiptronic)     Maroon   Major Service at 98115 km   \n",
       "4  712961  Automatic (Tiptronic)     Silver  Major Service at 135665 km   \n",
       "\n",
       "              Insurance Registration Certificate  \\\n",
       "0  No Current Insurance            Not Available   \n",
       "1  No Current Insurance                Available   \n",
       "2  No Current Insurance                Available   \n",
       "3    Valid Until [date]                Available   \n",
       "4  No Current Insurance            Not Available   \n",
       "\n",
       "                           Accessories  Car Age  Price per mile  \n",
       "0  Music System, Sunroof, Alloy Wheels       54            14.0  \n",
       "1                              Sunroof       54            12.0  \n",
       "2                              Sunroof       54             7.0  \n",
       "3           Music System, Alloy Wheels       54             7.0  \n",
       "4                    GPS, Music System       54             8.0  "
      ]
     },
     "execution_count": 11,
     "metadata": {},
     "output_type": "execute_result"
    }
   ],
   "source": [
    "data['Price per mile']=round(data['Price']/data['Mileage'])\n",
    "data.head()"
   ]
  },
  {
   "cell_type": "markdown",
   "metadata": {},
   "source": [
    "#### 4.2 Data Encoding\n",
    "Encode all categorical data"
   ]
  },
  {
   "cell_type": "code",
   "execution_count": 12,
   "metadata": {},
   "outputs": [],
   "source": [
    "#split data into, categorical, numerical and temporal\n",
    "num_df=data.select_dtypes(include=[np.number])\n",
    "cat_df=data.select_dtypes(include=[object])"
   ]
  },
  {
   "cell_type": "code",
   "execution_count": 13,
   "metadata": {},
   "outputs": [],
   "source": [
    "#num_df.head()\n",
    "#cat_df.head()"
   ]
  },
  {
   "cell_type": "markdown",
   "metadata": {},
   "source": [
    "Drop the feature registration number, because it is sort of an identifier, model learns nothing from it."
   ]
  },
  {
   "cell_type": "code",
   "execution_count": 14,
   "metadata": {},
   "outputs": [],
   "source": [
    "cat_df.drop('Registration Number',axis=1 ,inplace=True)"
   ]
  },
  {
   "cell_type": "code",
   "execution_count": 15,
   "metadata": {},
   "outputs": [
    {
     "data": {
      "text/html": [
       "<div>\n",
       "<style scoped>\n",
       "    .dataframe tbody tr th:only-of-type {\n",
       "        vertical-align: middle;\n",
       "    }\n",
       "\n",
       "    .dataframe tbody tr th {\n",
       "        vertical-align: top;\n",
       "    }\n",
       "\n",
       "    .dataframe thead th {\n",
       "        text-align: right;\n",
       "    }\n",
       "</style>\n",
       "<table border=\"1\" class=\"dataframe\">\n",
       "  <thead>\n",
       "    <tr style=\"text-align: right;\">\n",
       "      <th></th>\n",
       "      <th>Company Name</th>\n",
       "      <th>Car Name</th>\n",
       "      <th>Variant</th>\n",
       "      <th>Fuel Type</th>\n",
       "      <th>Tyre Condition</th>\n",
       "      <th>Owner Type</th>\n",
       "      <th>Transmission Type</th>\n",
       "      <th>Body Color</th>\n",
       "      <th>Service Record</th>\n",
       "      <th>Insurance</th>\n",
       "      <th>Registration Certificate</th>\n",
       "      <th>Accessories</th>\n",
       "    </tr>\n",
       "  </thead>\n",
       "  <tbody>\n",
       "    <tr>\n",
       "      <th>0</th>\n",
       "      <td>Maruti Suzuki</td>\n",
       "      <td>Cruze</td>\n",
       "      <td>EX</td>\n",
       "      <td>CNG</td>\n",
       "      <td>Needs Replacement</td>\n",
       "      <td>Second</td>\n",
       "      <td>Manual</td>\n",
       "      <td>Grey</td>\n",
       "      <td>Major Service at 50418 km</td>\n",
       "      <td>No Current Insurance</td>\n",
       "      <td>Not Available</td>\n",
       "      <td>Music System, Sunroof, Alloy Wheels</td>\n",
       "    </tr>\n",
       "    <tr>\n",
       "      <th>1</th>\n",
       "      <td>Kia</td>\n",
       "      <td>Seltos</td>\n",
       "      <td>RXE</td>\n",
       "      <td>Petrol</td>\n",
       "      <td>New</td>\n",
       "      <td>Third</td>\n",
       "      <td>Automatic</td>\n",
       "      <td>Maroon</td>\n",
       "      <td>Major Service at 131313 km</td>\n",
       "      <td>No Current Insurance</td>\n",
       "      <td>Available</td>\n",
       "      <td>Sunroof</td>\n",
       "    </tr>\n",
       "    <tr>\n",
       "      <th>2</th>\n",
       "      <td>Kia</td>\n",
       "      <td>Accord</td>\n",
       "      <td>RXE</td>\n",
       "      <td>Petrol</td>\n",
       "      <td>New</td>\n",
       "      <td>Second</td>\n",
       "      <td>Automatic (Tiptronic)</td>\n",
       "      <td>Black</td>\n",
       "      <td>No Service Record</td>\n",
       "      <td>No Current Insurance</td>\n",
       "      <td>Available</td>\n",
       "      <td>Sunroof</td>\n",
       "    </tr>\n",
       "    <tr>\n",
       "      <th>3</th>\n",
       "      <td>Nissan</td>\n",
       "      <td>Seltos</td>\n",
       "      <td>Highline</td>\n",
       "      <td>Diesel</td>\n",
       "      <td>Used</td>\n",
       "      <td>Third</td>\n",
       "      <td>Automatic (Tiptronic)</td>\n",
       "      <td>Maroon</td>\n",
       "      <td>Major Service at 98115 km</td>\n",
       "      <td>Valid Until [date]</td>\n",
       "      <td>Available</td>\n",
       "      <td>Music System, Alloy Wheels</td>\n",
       "    </tr>\n",
       "    <tr>\n",
       "      <th>4</th>\n",
       "      <td>Chevrolet</td>\n",
       "      <td>Kwid</td>\n",
       "      <td>Highline</td>\n",
       "      <td>Petrol</td>\n",
       "      <td>Used</td>\n",
       "      <td>Second</td>\n",
       "      <td>Automatic (Tiptronic)</td>\n",
       "      <td>Silver</td>\n",
       "      <td>Major Service at 135665 km</td>\n",
       "      <td>No Current Insurance</td>\n",
       "      <td>Not Available</td>\n",
       "      <td>GPS, Music System</td>\n",
       "    </tr>\n",
       "  </tbody>\n",
       "</table>\n",
       "</div>"
      ],
      "text/plain": [
       "    Company Name Car Name   Variant Fuel Type     Tyre Condition Owner Type  \\\n",
       "0  Maruti Suzuki    Cruze        EX       CNG  Needs Replacement     Second   \n",
       "1            Kia   Seltos       RXE    Petrol                New      Third   \n",
       "2            Kia   Accord       RXE    Petrol                New     Second   \n",
       "3         Nissan   Seltos  Highline    Diesel               Used      Third   \n",
       "4      Chevrolet     Kwid  Highline    Petrol               Used     Second   \n",
       "\n",
       "       Transmission Type Body Color              Service Record  \\\n",
       "0                 Manual       Grey   Major Service at 50418 km   \n",
       "1              Automatic     Maroon  Major Service at 131313 km   \n",
       "2  Automatic (Tiptronic)      Black           No Service Record   \n",
       "3  Automatic (Tiptronic)     Maroon   Major Service at 98115 km   \n",
       "4  Automatic (Tiptronic)     Silver  Major Service at 135665 km   \n",
       "\n",
       "              Insurance Registration Certificate  \\\n",
       "0  No Current Insurance            Not Available   \n",
       "1  No Current Insurance                Available   \n",
       "2  No Current Insurance                Available   \n",
       "3    Valid Until [date]                Available   \n",
       "4  No Current Insurance            Not Available   \n",
       "\n",
       "                           Accessories  \n",
       "0  Music System, Sunroof, Alloy Wheels  \n",
       "1                              Sunroof  \n",
       "2                              Sunroof  \n",
       "3           Music System, Alloy Wheels  \n",
       "4                    GPS, Music System  "
      ]
     },
     "execution_count": 15,
     "metadata": {},
     "output_type": "execute_result"
    }
   ],
   "source": [
    "cat_df.head()"
   ]
  },
  {
   "cell_type": "code",
   "execution_count": 16,
   "metadata": {},
   "outputs": [
    {
     "data": {
      "text/plain": [
       "Index(['Company Name', 'Car Name', 'Variant', 'Fuel Type', 'Tyre Condition',\n",
       "       'Owner Type', 'Transmission Type', 'Body Color', 'Service Record',\n",
       "       'Insurance', 'Registration Certificate', 'Accessories'],\n",
       "      dtype='object')"
      ]
     },
     "execution_count": 16,
     "metadata": {},
     "output_type": "execute_result"
    }
   ],
   "source": [
    "cat_df.columns"
   ]
  },
  {
   "cell_type": "code",
   "execution_count": 17,
   "metadata": {},
   "outputs": [
    {
     "data": {
      "text/html": [
       "<div>\n",
       "<style scoped>\n",
       "    .dataframe tbody tr th:only-of-type {\n",
       "        vertical-align: middle;\n",
       "    }\n",
       "\n",
       "    .dataframe tbody tr th {\n",
       "        vertical-align: top;\n",
       "    }\n",
       "\n",
       "    .dataframe thead th {\n",
       "        text-align: right;\n",
       "    }\n",
       "</style>\n",
       "<table border=\"1\" class=\"dataframe\">\n",
       "  <thead>\n",
       "    <tr style=\"text-align: right;\">\n",
       "      <th></th>\n",
       "      <th>Mileage</th>\n",
       "      <th>Price</th>\n",
       "      <th>Car Age</th>\n",
       "      <th>Price per mile</th>\n",
       "      <th>Company Name_Chevrolet</th>\n",
       "      <th>Company Name_Ford</th>\n",
       "      <th>Company Name_Honda</th>\n",
       "      <th>Company Name_Hyundai</th>\n",
       "      <th>Company Name_Kia</th>\n",
       "      <th>Company Name_Maruti Suzuki</th>\n",
       "      <th>...</th>\n",
       "      <th>Accessories_Sunroof, Leather Seats, Music System, GPS</th>\n",
       "      <th>Accessories_Sunroof, Music System</th>\n",
       "      <th>Accessories_Sunroof, Music System, Alloy Wheels</th>\n",
       "      <th>Accessories_Sunroof, Music System, Alloy Wheels, GPS</th>\n",
       "      <th>Accessories_Sunroof, Music System, Alloy Wheels, Leather Seats</th>\n",
       "      <th>Accessories_Sunroof, Music System, GPS</th>\n",
       "      <th>Accessories_Sunroof, Music System, GPS, Alloy Wheels</th>\n",
       "      <th>Accessories_Sunroof, Music System, GPS, Leather Seats</th>\n",
       "      <th>Accessories_Sunroof, Music System, Leather Seats</th>\n",
       "      <th>Accessories_Sunroof, Music System, Leather Seats, GPS</th>\n",
       "    </tr>\n",
       "  </thead>\n",
       "  <tbody>\n",
       "    <tr>\n",
       "      <th>0</th>\n",
       "      <td>52798</td>\n",
       "      <td>759107</td>\n",
       "      <td>54</td>\n",
       "      <td>14.0</td>\n",
       "      <td>0.0</td>\n",
       "      <td>0.0</td>\n",
       "      <td>0.0</td>\n",
       "      <td>0.0</td>\n",
       "      <td>0.0</td>\n",
       "      <td>1.0</td>\n",
       "      <td>...</td>\n",
       "      <td>0.0</td>\n",
       "      <td>0.0</td>\n",
       "      <td>0.0</td>\n",
       "      <td>0.0</td>\n",
       "      <td>0.0</td>\n",
       "      <td>0.0</td>\n",
       "      <td>0.0</td>\n",
       "      <td>0.0</td>\n",
       "      <td>0.0</td>\n",
       "      <td>0.0</td>\n",
       "    </tr>\n",
       "    <tr>\n",
       "      <th>1</th>\n",
       "      <td>43412</td>\n",
       "      <td>505071</td>\n",
       "      <td>54</td>\n",
       "      <td>12.0</td>\n",
       "      <td>0.0</td>\n",
       "      <td>0.0</td>\n",
       "      <td>0.0</td>\n",
       "      <td>0.0</td>\n",
       "      <td>1.0</td>\n",
       "      <td>0.0</td>\n",
       "      <td>...</td>\n",
       "      <td>0.0</td>\n",
       "      <td>0.0</td>\n",
       "      <td>0.0</td>\n",
       "      <td>0.0</td>\n",
       "      <td>0.0</td>\n",
       "      <td>0.0</td>\n",
       "      <td>0.0</td>\n",
       "      <td>0.0</td>\n",
       "      <td>0.0</td>\n",
       "      <td>0.0</td>\n",
       "    </tr>\n",
       "    <tr>\n",
       "      <th>2</th>\n",
       "      <td>95219</td>\n",
       "      <td>635322</td>\n",
       "      <td>54</td>\n",
       "      <td>7.0</td>\n",
       "      <td>0.0</td>\n",
       "      <td>0.0</td>\n",
       "      <td>0.0</td>\n",
       "      <td>0.0</td>\n",
       "      <td>1.0</td>\n",
       "      <td>0.0</td>\n",
       "      <td>...</td>\n",
       "      <td>0.0</td>\n",
       "      <td>0.0</td>\n",
       "      <td>0.0</td>\n",
       "      <td>0.0</td>\n",
       "      <td>0.0</td>\n",
       "      <td>0.0</td>\n",
       "      <td>0.0</td>\n",
       "      <td>0.0</td>\n",
       "      <td>0.0</td>\n",
       "      <td>0.0</td>\n",
       "    </tr>\n",
       "    <tr>\n",
       "      <th>3</th>\n",
       "      <td>70370</td>\n",
       "      <td>483152</td>\n",
       "      <td>54</td>\n",
       "      <td>7.0</td>\n",
       "      <td>0.0</td>\n",
       "      <td>0.0</td>\n",
       "      <td>0.0</td>\n",
       "      <td>0.0</td>\n",
       "      <td>0.0</td>\n",
       "      <td>0.0</td>\n",
       "      <td>...</td>\n",
       "      <td>0.0</td>\n",
       "      <td>0.0</td>\n",
       "      <td>0.0</td>\n",
       "      <td>0.0</td>\n",
       "      <td>0.0</td>\n",
       "      <td>0.0</td>\n",
       "      <td>0.0</td>\n",
       "      <td>0.0</td>\n",
       "      <td>0.0</td>\n",
       "      <td>0.0</td>\n",
       "    </tr>\n",
       "    <tr>\n",
       "      <th>4</th>\n",
       "      <td>85852</td>\n",
       "      <td>712961</td>\n",
       "      <td>54</td>\n",
       "      <td>8.0</td>\n",
       "      <td>1.0</td>\n",
       "      <td>0.0</td>\n",
       "      <td>0.0</td>\n",
       "      <td>0.0</td>\n",
       "      <td>0.0</td>\n",
       "      <td>0.0</td>\n",
       "      <td>...</td>\n",
       "      <td>0.0</td>\n",
       "      <td>0.0</td>\n",
       "      <td>0.0</td>\n",
       "      <td>0.0</td>\n",
       "      <td>0.0</td>\n",
       "      <td>0.0</td>\n",
       "      <td>0.0</td>\n",
       "      <td>0.0</td>\n",
       "      <td>0.0</td>\n",
       "      <td>0.0</td>\n",
       "    </tr>\n",
       "  </tbody>\n",
       "</table>\n",
       "<p>5 rows × 1109 columns</p>\n",
       "</div>"
      ],
      "text/plain": [
       "   Mileage   Price  Car Age  Price per mile  Company Name_Chevrolet  \\\n",
       "0    52798  759107       54            14.0                     0.0   \n",
       "1    43412  505071       54            12.0                     0.0   \n",
       "2    95219  635322       54             7.0                     0.0   \n",
       "3    70370  483152       54             7.0                     0.0   \n",
       "4    85852  712961       54             8.0                     1.0   \n",
       "\n",
       "   Company Name_Ford  Company Name_Honda  Company Name_Hyundai  \\\n",
       "0                0.0                 0.0                   0.0   \n",
       "1                0.0                 0.0                   0.0   \n",
       "2                0.0                 0.0                   0.0   \n",
       "3                0.0                 0.0                   0.0   \n",
       "4                0.0                 0.0                   0.0   \n",
       "\n",
       "   Company Name_Kia  Company Name_Maruti Suzuki  ...  \\\n",
       "0               0.0                         1.0  ...   \n",
       "1               1.0                         0.0  ...   \n",
       "2               1.0                         0.0  ...   \n",
       "3               0.0                         0.0  ...   \n",
       "4               0.0                         0.0  ...   \n",
       "\n",
       "   Accessories_Sunroof, Leather Seats, Music System, GPS  \\\n",
       "0                                                0.0       \n",
       "1                                                0.0       \n",
       "2                                                0.0       \n",
       "3                                                0.0       \n",
       "4                                                0.0       \n",
       "\n",
       "   Accessories_Sunroof, Music System  \\\n",
       "0                                0.0   \n",
       "1                                0.0   \n",
       "2                                0.0   \n",
       "3                                0.0   \n",
       "4                                0.0   \n",
       "\n",
       "   Accessories_Sunroof, Music System, Alloy Wheels  \\\n",
       "0                                              0.0   \n",
       "1                                              0.0   \n",
       "2                                              0.0   \n",
       "3                                              0.0   \n",
       "4                                              0.0   \n",
       "\n",
       "   Accessories_Sunroof, Music System, Alloy Wheels, GPS  \\\n",
       "0                                                0.0      \n",
       "1                                                0.0      \n",
       "2                                                0.0      \n",
       "3                                                0.0      \n",
       "4                                                0.0      \n",
       "\n",
       "   Accessories_Sunroof, Music System, Alloy Wheels, Leather Seats  \\\n",
       "0                                                0.0                \n",
       "1                                                0.0                \n",
       "2                                                0.0                \n",
       "3                                                0.0                \n",
       "4                                                0.0                \n",
       "\n",
       "   Accessories_Sunroof, Music System, GPS  \\\n",
       "0                                     0.0   \n",
       "1                                     0.0   \n",
       "2                                     0.0   \n",
       "3                                     0.0   \n",
       "4                                     0.0   \n",
       "\n",
       "   Accessories_Sunroof, Music System, GPS, Alloy Wheels  \\\n",
       "0                                                0.0      \n",
       "1                                                0.0      \n",
       "2                                                0.0      \n",
       "3                                                0.0      \n",
       "4                                                0.0      \n",
       "\n",
       "   Accessories_Sunroof, Music System, GPS, Leather Seats  \\\n",
       "0                                                0.0       \n",
       "1                                                0.0       \n",
       "2                                                0.0       \n",
       "3                                                0.0       \n",
       "4                                                0.0       \n",
       "\n",
       "   Accessories_Sunroof, Music System, Leather Seats  \\\n",
       "0                                               0.0   \n",
       "1                                               0.0   \n",
       "2                                               0.0   \n",
       "3                                               0.0   \n",
       "4                                               0.0   \n",
       "\n",
       "   Accessories_Sunroof, Music System, Leather Seats, GPS  \n",
       "0                                                0.0      \n",
       "1                                                0.0      \n",
       "2                                                0.0      \n",
       "3                                                0.0      \n",
       "4                                                0.0      \n",
       "\n",
       "[5 rows x 1109 columns]"
      ]
     },
     "execution_count": 17,
     "metadata": {},
     "output_type": "execute_result"
    }
   ],
   "source": [
    "#one hot encoding\n",
    "\n",
    "ohe=OneHotEncoder(sparse_output=False)\n",
    "ohe_transform=ohe.fit_transform(cat_df)\n",
    "encoded_df = pd.DataFrame(ohe_transform, columns=ohe.get_feature_names_out(cat_df.columns))\n",
    "encoded_df.index = cat_df.index\n",
    "final_df=pd.concat([num_df,encoded_df],axis=1)\n",
    "final_df.head()"
   ]
  },
  {
   "cell_type": "code",
   "execution_count": 19,
   "metadata": {},
   "outputs": [
    {
     "data": {
      "text/plain": [
       "(2500, 1109)"
      ]
     },
     "execution_count": 19,
     "metadata": {},
     "output_type": "execute_result"
    }
   ],
   "source": [
    "final_df.shape"
   ]
  },
  {
   "cell_type": "markdown",
   "metadata": {},
   "source": [
    "#### 4.3 Feature Scaling"
   ]
  },
  {
   "cell_type": "code",
   "execution_count": 21,
   "metadata": {},
   "outputs": [],
   "source": [
    "#perform standard scaling\n",
    "scaler=StandardScaler()\n",
    "scaled_df=scaler.fit_transform(final_df)\n"
   ]
  },
  {
   "cell_type": "markdown",
   "metadata": {},
   "source": [
    "### 5. Dimensionality Reduction"
   ]
  },
  {
   "cell_type": "code",
   "execution_count": 52,
   "metadata": {},
   "outputs": [
    {
     "name": "stdout",
     "output_type": "stream",
     "text": [
      "(2500, 1109)\n",
      "(2500, 15)\n"
     ]
    }
   ],
   "source": [
    "#apply pca\n",
    "from sklearn.decomposition import PCA\n",
    "pca=PCA(n_components=15)\n",
    "pca.fit(scaled_df)\n",
    "X_pca=pca.transform(scaled_df)\n",
    "print(scaled_df.shape)\n",
    "print(X_pca.shape)\n"
   ]
  },
  {
   "cell_type": "code",
   "execution_count": 32,
   "metadata": {},
   "outputs": [],
   "source": [
    "#heatmap to show correlation between features and principal components\n",
    "#df_comp=pd.DataFrame(pca.components_,columns=final_df.columns)\n",
    "#plt.figure(figsize=(12,6))\n",
    "#sns.heatmap(df_comp,cmap='plasma')"
   ]
  },
  {
   "cell_type": "code",
   "execution_count": 53,
   "metadata": {},
   "outputs": [
    {
     "name": "stdout",
     "output_type": "stream",
     "text": [
      "Explained variance: [0.24125776 0.23425304 0.21755943 0.20629251 0.20422799 0.20320672\n",
      " 0.19840441 0.19434757 0.18984183 0.18858593 0.18662522 0.18323405\n",
      " 0.18124728 0.17764654 0.17753672]\n"
     ]
    }
   ],
   "source": [
    "#Explained variance\n",
    "explained_variance = pca.explained_variance_ratio_*100\n",
    "print('Explained variance:', explained_variance)"
   ]
  },
  {
   "cell_type": "code",
   "execution_count": 77,
   "metadata": {},
   "outputs": [
    {
     "data": {
      "image/png": "[encoded data removed]",
      "text/plain": [
       "<Figure size 800x600 with 1 Axes>"
      ]
     },
     "metadata": {},
     "output_type": "display_data"
    }
   ],
   "source": [
    "# Plot the explained Variance\n",
    "plt.figure(figsize=(8,6))\n",
    "plt.bar(range(len(explained_variance)), explained_variance)\n",
    "plt.xlabel(\"Principal components\")\n",
    "plt.ylabel(\"Explained Variance\")\n",
    "plt.title(\"Explained Variance Ratio\")\n",
    "plt.show()"
   ]
  },
  {
   "cell_type": "code",
   "execution_count": 55,
   "metadata": {},
   "outputs": [
    {
     "data": {
      "image/png": "[encoded data removed]",
      "text/plain": [
       "<Figure size 800x600 with 1 Axes>"
      ]
     },
     "metadata": {},
     "output_type": "display_data"
    }
   ],
   "source": [
    "# Cummulative explained variance\n",
    "cumulative_variance = np.cumsum(pca.explained_variance_ratio_)\n",
    "\n",
    "# Plot the cumulative explained variance\n",
    "plt.figure(figsize=(8,6))\n",
    "plt.plot(range(1, len(cumulative_variance) + 1), cumulative_variance, marker='o')\n",
    "plt.xlabel(\"Number of components\")\n",
    "plt.ylabel(\"Cumulative Explained Variance\")\n",
    "plt.title(\"Cumlative explained Variance\")\n",
    "plt.show()\n"
   ]
  },
  {
   "cell_type": "markdown",
   "metadata": {},
   "source": [
    "Despite increasing the number of principal components the explained variance is very poor, seems the data is not linearly separable and therefore we need to apply kernel PCA instead."
   ]
  },
  {
   "cell_type": "code",
   "execution_count": 65,
   "metadata": {},
   "outputs": [
    {
     "name": "stdout",
     "output_type": "stream",
     "text": [
      "(2500, 1109)\n",
      "(2500, 2)\n"
     ]
    }
   ],
   "source": [
    "from sklearn.decomposition import KernelPCA\n",
    "kpca=KernelPCA(n_components=2)\n",
    "kpca.fit(scaled_df)\n",
    "X_kpca=kpca.transform(scaled_df)\n",
    "print(scaled_df.shape)\n",
    "print(X_pca.shape)"
   ]
  },
  {
   "cell_type": "code",
   "execution_count": 78,
   "metadata": {},
   "outputs": [
    {
     "name": "stdout",
     "output_type": "stream",
     "text": [
      "Explained variance ratio: [50.69758403 49.30241597]\n"
     ]
    }
   ],
   "source": [
    "explained_variance_kernel = np.var(X_kpca,axis=0)\n",
    "explained_variance_ratio_kernel=(explained_variance_kernel/np.sum(explained_variance_kernel))*100\n",
    "print('Explained variance ratio:', explained_variance_ratio_kernel)"
   ]
  },
  {
   "cell_type": "code",
   "execution_count": 79,
   "metadata": {},
   "outputs": [
    {
     "data": {
      "image/png": "[encoded data removed]",
      "text/plain": [
       "<Figure size 800x600 with 1 Axes>"
      ]
     },
     "metadata": {},
     "output_type": "display_data"
    }
   ],
   "source": [
    "plt.figure(figsize=(8,6))\n",
    "plt.bar(range(len(explained_variance_ratio_kernel)), explained_variance_ratio_kernel)\n",
    "plt.xlabel(\"Prricipal components\")\n",
    "plt.ylabel(\"Explained Variance\")\n",
    "plt.title(\"Explained Variance Ratio- Kernel PCA\")\n",
    "plt.show()"
   ]
  },
  {
   "cell_type": "code",
   "execution_count": 80,
   "metadata": {},
   "outputs": [
    {
     "data": {
      "image/png": "[encoded data removed]",
      "text/plain": [
       "<Figure size 800x600 with 1 Axes>"
      ]
     },
     "metadata": {},
     "output_type": "display_data"
    }
   ],
   "source": [
    "cumulative_variance = np.cumsum(explained_variance_ratio)\n",
    "\n",
    "# Plot the cumulative explained variance\n",
    "plt.figure(figsize=(8,6))\n",
    "plt.plot(range(1, len(cumulative_variance) + 1), cumulative_variance, marker='o')\n",
    "plt.xlabel(\"Number of components\")\n",
    "plt.ylabel(\"Cumulative Explained Variance\")\n",
    "plt.title(\"Cumlative explained Variance\")\n",
    "plt.show()"
   ]
  },
  {
   "cell_type": "markdown",
   "metadata": {},
   "source": [
    "Kernel PCA gives a better representation of the data."
   ]
  },
  {
   "cell_type": "markdown",
   "metadata": {},
   "source": []
  }
 ],
 "metadata": {
  "kernelspec": {
   "display_name": "Python 3",
   "language": "python",
   "name": "python3"
  },
  "language_info": {
   "codemirror_mode": {
    "name": "ipython",
    "version": 3
   },
   "file_extension": ".py",
   "mimetype": "text/x-python",
   "name": "python",
   "nbconvert_exporter": "python",
   "pygments_lexer": "ipython3",
   "version": "3.12.4"
  }
 },
 "nbformat": 4,
 "nbformat_minor": 2
}
